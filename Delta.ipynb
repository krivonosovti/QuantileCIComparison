{
 "cells": [
  {
   "cell_type": "markdown",
   "metadata": {},
   "source": [
    "Разберем Дельта метод на примере той же задачи с Ульяной. (Ульяна смотрит сериалы каждый день! Пусть X-число серий, которое Ульяна посмотрела за день. Т.к число серий - счечик, предположим X~Poiss(lam), где lam - интенсивность просмотр.  Интересно с какой интенсивностью она смотрит сериалы, и теперь она хочет построить для lam оценку методом моментов, а после доврительный интервал для нее. )"
   ]
  },
  {
   "cell_type": "code",
   "execution_count": 1,
   "metadata": {},
   "outputs": [],
   "source": [
    "import numpy as np\n",
    "from scipy import stats\n",
    "import matplotlib.pyplot as plt"
   ]
  },
  {
   "cell_type": "code",
   "execution_count": 2,
   "metadata": {},
   "outputs": [
    {
     "data": {
      "text/plain": [
       "5.142857142857143"
      ]
     },
     "execution_count": 2,
     "metadata": {},
     "output_type": "execute_result"
    }
   ],
   "source": [
    "X = [5, 7, 8, 9,4 ,1, 2]\n",
    "\n",
    "lam_hat = np.mean(X)\n",
    "lam_hat"
   ]
  },
  {
   "cell_type": "code",
   "execution_count": 3,
   "metadata": {},
   "outputs": [
    {
     "name": "stdout",
     "output_type": "stream",
     "text": [
      "[ 3.46 , 6.82] и ширина 3.36\n",
      "(3.4628880132513826, 6.822826272462904)\n"
     ]
    }
   ],
   "source": [
    "norm_rv = stats.norm(loc = 0, scale =1)\n",
    "\n",
    "alpha = 0.05 #95 квантиль\n",
    "\n",
    "#из нормального распределения автомтически посчитали квантиль\n",
    "z_alpha = norm_rv.ppf(1-alpha/2)\n",
    "\n",
    "lam_hat = np.mean(X) #нашли оценку параметра\n",
    "lam_se = np.sqrt(lam_hat/len(X)) #нашли стандартное отклоненне \n",
    "\n",
    "#по формулам посчитаем доверительный интервал\n",
    "lam_left = lam_hat - z_alpha*lam_se\n",
    "lam_right = lam_hat + z_alpha*lam_se\n",
    "\n",
    "print( f\"[ {lam_left:.3} , {lam_right:.3}] и ширина {lam_right - lam_left:.3}\")\n",
    "\n",
    "#или аналогично встроенной функцией\n",
    "print(stats.norm.interval(0.95, loc = lam_hat, scale = lam_se))"
   ]
  },
  {
   "cell_type": "markdown",
   "metadata": {},
   "source": [
    "Но теперь возникает дополнительный вопрос: \"Какова вероятность, что Ульяна посмотрит 0 фильмов\". Для распределения Пуассона, вероятность случайного события мы можем посчитать так: P(Xi = k) = (lam^k/k!) * exp(- lam). Это и есть непр функ g(t), конкретно в случае 0 имеет вид: g(lam) = exp(-lam) и Pточная(Xi=0) = exp(- Xсреднее).   g'(lam) = - exp(- lam)"
   ]
  },
  {
   "cell_type": "code",
   "execution_count": 6,
   "metadata": {},
   "outputs": [
    {
     "name": "stdout",
     "output_type": "stream",
     "text": [
      "[ -0.0504 , 0.0621] и ширина 0.113\n",
      "(-0.05044563714285134, 0.06212759182924184)\n"
     ]
    }
   ],
   "source": [
    "norm_rv = stats.norm(loc = 0, scale =1)\n",
    "\n",
    "alpha = 0.05 #95 квантиль\n",
    "\n",
    "#из нормального распределения автомтически посчитали квантиль\n",
    "z_alpha = norm_rv.ppf(1-alpha/2)\n",
    "\n",
    "lam_hat = np.exp(-np.mean(X)) #нашли оценку параметра\n",
    "lam_se = np.sqrt(lam_hat/len(X) * np.exp(-2*lam_hat)) #нашли стандартное отклоненне уже для функции g() учитывая, что g'(lam) = - exp(- lam)\n",
    "\n",
    "#по формулам посчитаем доверительный интервал\n",
    "lam_left = lam_hat - z_alpha*lam_se\n",
    "lam_right = lam_hat + z_alpha*lam_se\n",
    "\n",
    "print( f\"[ {lam_left:.3} , {lam_right:.3}] и ширина {lam_right - lam_left:.3}\")\n",
    "\n",
    "#или аналогично встроенной функцией\n",
    "print(stats.norm.interval(0.95, loc = lam_hat, scale = lam_se))"
   ]
  }
 ],
 "metadata": {
  "kernelspec": {
   "display_name": "Python 3",
   "language": "python",
   "name": "python3"
  },
  "language_info": {
   "codemirror_mode": {
    "name": "ipython",
    "version": 3
   },
   "file_extension": ".py",
   "mimetype": "text/x-python",
   "name": "python",
   "nbconvert_exporter": "python",
   "pygments_lexer": "ipython3",
   "version": "3.11.4"
  },
  "orig_nbformat": 4
 },
 "nbformat": 4,
 "nbformat_minor": 2
}
