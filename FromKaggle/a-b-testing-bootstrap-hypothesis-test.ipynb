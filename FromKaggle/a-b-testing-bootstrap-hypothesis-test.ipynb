{
 "cells": [
  {
   "cell_type": "markdown",
   "id": "0d5000bf",
   "metadata": {
    "papermill": {
     "duration": 0.015293,
     "end_time": "2023-06-27T20:40:44.571934",
     "exception": false,
     "start_time": "2023-06-27T20:40:44.556641",
     "status": "completed"
    },
    "tags": []
   },
   "source": [
    "**Содержание**\n",
    "\n",
    "**1. Основа проекта**\n",
    "*   1.1 О наборе данных\n",
    "*   1.2 Словарь\n",
    "\n",
    "**2. Data Preparation**\n",
    "*   2.1 Загрузка данных\n",
    "*   2.2 Отчистка данных\n",
    "*   2.3 Исследование данных\n",
    "\n",
    "**3. Бутстреп** \n",
    "\n",
    "**4. Наивный подход**\n",
    "**5. Дельта метод**\n",
    "\n",
    "\n",
    "\n",
    "\n",
    "\n"
   ]
  },
  {
   "cell_type": "markdown",
   "id": "a2d22000",
   "metadata": {
    "papermill": {
     "duration": 0.013302,
     "end_time": "2023-06-27T20:40:44.598014",
     "exception": false,
     "start_time": "2023-06-27T20:40:44.584712",
     "status": "completed"
    },
    "tags": []
   },
   "source": [
    "**1.Основа проекта**\n",
    "\n",
    "Этот проект основан на данных, предоставленных на https://www.kaggle.com/datasets/faviovaz/marketing-ab-testing?datasetId=1660669. Это простая маркетинговая кампания с экспериментальной и контрольной группами для A/B-тестирования."
   ]
  },
  {
   "cell_type": "markdown",
   "id": "56700d2b",
   "metadata": {
    "papermill": {
     "duration": 0.012099,
     "end_time": "2023-06-27T20:40:44.622834",
     "exception": false,
     "start_time": "2023-06-27T20:40:44.610735",
     "status": "completed"
    },
    "tags": []
   },
   "source": [
    "****1.1 О dataset-е****\n",
    "\n",
    "**Создание A/B тестирования для dataset-а**\n",
    "Маркетинговые компании стремятся проводить успешные кампании, но рынок сложен, и существует несколько вариантов, которые могут сработать. Поэтому обычно они проводят A/B-тестирование, которое представляет собой процесс случайного эксперимента, при котором две или более версии переменной (веб-страница, элемент страницы, баннер и т. д.) одновременно показываются разным сегментам людей для определения, какая версия оказывает максимальное воздействие и способствует достижению бизнес-метрик.\n",
    "\n",
    "Компании интересуются ответом на два вопроса:\n",
    "\n",
    "1. Сколько должно быть рекламы просмотренно человеком, чтобы с 90% вероятностью он обратился в магазин?\n",
    "2. с 99% вероятностью?\n",
    "\n",
    "С учетом второго вопроса мы обычно проводим A/B-тестирование. Большинство людей будут видеть рекламу (экспериментальная группа), а небольшая часть людей (контрольная группа) увидит общественное информирование или ничего в точно таком же размере и месте, где обычно размещается реклама.\n",
    "\n",
    "\n",
    "**1.2 Словарь:**\n",
    "\n",
    "* **Index**: Индекс строки\n",
    "* **user id**: Идентификатор пользователя (уникальный)\n",
    "* **test group**: Если \"ad\", то человек видел рекламу, если \"psa\", то он видел общественное информационное объявление\n",
    "* **converted**: Если человек купил продукт, то значение True, иначе False\n",
    "* **total ads**: Количество просмотренных рекламных объявлений человеком\n",
    "* **most ads day**: День, в который человек увидел наибольшее количество рекламы\n",
    "* **most ads hour**: Час дня, когда человек увидел наибольшее количество рекламы"
   ]
  },
  {
   "cell_type": "code",
   "execution_count": 3,
   "id": "0a8dd441",
   "metadata": {
    "_cell_guid": "b1076dfc-b9ad-4769-8c92-a6c4dae69d19",
    "_uuid": "8f2839f25d086af736a60e9eeb907d3b93b6e0e5",
    "execution": {
     "iopub.execute_input": "2023-06-27T20:40:44.653343Z",
     "iopub.status.busy": "2023-06-27T20:40:44.652519Z",
     "iopub.status.idle": "2023-06-27T20:40:44.676185Z",
     "shell.execute_reply": "2023-06-27T20:40:44.675179Z"
    },
    "papermill": {
     "duration": 0.042488,
     "end_time": "2023-06-27T20:40:44.679026",
     "exception": false,
     "start_time": "2023-06-27T20:40:44.636538",
     "status": "completed"
    },
    "tags": []
   },
   "outputs": [],
   "source": [
    "import numpy as np  # линейная алгебра\n",
    "import pandas as pd  # обработка данных, чтение и запись файлов CSV\n",
    "\n",
    "# Входные данные находятся в только для чтения директории \"../input/\"\n",
    "# Например, запуск этого кода (нажатие кнопки \"Run\" или нажатие Shift+Enter) покажет все файлы в директории input\n",
    "\n",
    "import os\n",
    "for dirname, _, filenames in os.walk('/TEST'):\n",
    "    for filename in filenames:\n",
    "        print(os.path.join(dirname, filename))\n",
    "\n",
    "# Можно записывать до 20 ГБ в текущую директорию (/kaggle/working/), которая сохраняется в виде выходных данных при создании версии через \"Save & Run All\"\n",
    "# Также можно создавать временные файлы в /kaggle/temp/, но они не будут сохранены после завершения текущей сессии"
   ]
  },
  {
   "cell_type": "markdown",
   "id": "75a6837c",
   "metadata": {
    "papermill": {
     "duration": 0.013369,
     "end_time": "2023-06-27T20:40:44.707003",
     "exception": false,
     "start_time": "2023-06-27T20:40:44.693634",
     "status": "completed"
    },
    "tags": []
   },
   "source": [
    "**2. Подготовка данных** \n",
    "\n",
    "**2.1 Загрузка данных**"
   ]
  },
  {
   "cell_type": "code",
   "execution_count": 4,
   "id": "dfddca7f",
   "metadata": {
    "execution": {
     "iopub.execute_input": "2023-06-27T20:40:44.736905Z",
     "iopub.status.busy": "2023-06-27T20:40:44.735843Z",
     "iopub.status.idle": "2023-06-27T20:40:47.980092Z",
     "shell.execute_reply": "2023-06-27T20:40:47.977916Z"
    },
    "papermill": {
     "duration": 3.261133,
     "end_time": "2023-06-27T20:40:47.983141",
     "exception": false,
     "start_time": "2023-06-27T20:40:44.722008",
     "status": "completed"
    },
    "tags": []
   },
   "outputs": [
    {
     "data": {
      "text/html": [
       "<div>\n",
       "<style scoped>\n",
       "    .dataframe tbody tr th:only-of-type {\n",
       "        vertical-align: middle;\n",
       "    }\n",
       "\n",
       "    .dataframe tbody tr th {\n",
       "        vertical-align: top;\n",
       "    }\n",
       "\n",
       "    .dataframe thead th {\n",
       "        text-align: right;\n",
       "    }\n",
       "</style>\n",
       "<table border=\"1\" class=\"dataframe\">\n",
       "  <thead>\n",
       "    <tr style=\"text-align: right;\">\n",
       "      <th></th>\n",
       "      <th>Unnamed: 0</th>\n",
       "      <th>user id</th>\n",
       "      <th>test group</th>\n",
       "      <th>converted</th>\n",
       "      <th>total ads</th>\n",
       "      <th>most ads day</th>\n",
       "      <th>most ads hour</th>\n",
       "    </tr>\n",
       "  </thead>\n",
       "  <tbody>\n",
       "    <tr>\n",
       "      <th>0</th>\n",
       "      <td>0</td>\n",
       "      <td>1069124</td>\n",
       "      <td>ad</td>\n",
       "      <td>False</td>\n",
       "      <td>130</td>\n",
       "      <td>Monday</td>\n",
       "      <td>20</td>\n",
       "    </tr>\n",
       "    <tr>\n",
       "      <th>1</th>\n",
       "      <td>1</td>\n",
       "      <td>1119715</td>\n",
       "      <td>ad</td>\n",
       "      <td>False</td>\n",
       "      <td>93</td>\n",
       "      <td>Tuesday</td>\n",
       "      <td>22</td>\n",
       "    </tr>\n",
       "    <tr>\n",
       "      <th>2</th>\n",
       "      <td>2</td>\n",
       "      <td>1144181</td>\n",
       "      <td>ad</td>\n",
       "      <td>False</td>\n",
       "      <td>21</td>\n",
       "      <td>Tuesday</td>\n",
       "      <td>18</td>\n",
       "    </tr>\n",
       "    <tr>\n",
       "      <th>3</th>\n",
       "      <td>3</td>\n",
       "      <td>1435133</td>\n",
       "      <td>ad</td>\n",
       "      <td>False</td>\n",
       "      <td>355</td>\n",
       "      <td>Tuesday</td>\n",
       "      <td>10</td>\n",
       "    </tr>\n",
       "    <tr>\n",
       "      <th>4</th>\n",
       "      <td>4</td>\n",
       "      <td>1015700</td>\n",
       "      <td>ad</td>\n",
       "      <td>False</td>\n",
       "      <td>276</td>\n",
       "      <td>Friday</td>\n",
       "      <td>14</td>\n",
       "    </tr>\n",
       "  </tbody>\n",
       "</table>\n",
       "</div>"
      ],
      "text/plain": [
       "   Unnamed: 0  user id test group  converted  total ads most ads day  \\\n",
       "0           0  1069124         ad      False        130       Monday   \n",
       "1           1  1119715         ad      False         93      Tuesday   \n",
       "2           2  1144181         ad      False         21      Tuesday   \n",
       "3           3  1435133         ad      False        355      Tuesday   \n",
       "4           4  1015700         ad      False        276       Friday   \n",
       "\n",
       "   most ads hour  \n",
       "0             20  \n",
       "1             22  \n",
       "2             18  \n",
       "3             10  \n",
       "4             14  "
      ]
     },
     "execution_count": 4,
     "metadata": {},
     "output_type": "execute_result"
    }
   ],
   "source": [
    "# импортировать библиотеки и данные\n",
    "import pandas as pd\n",
    "import matplotlib.pyplot as plt\n",
    "import seaborn as sns\n",
    "import numpy as np\n",
    "\n",
    "df = pd.read_csv('marketing_AB.csv')  # загрузить данные из CSV файла\n",
    "df.head()  # вывод первых нескольких строк данных для ознакомления"
   ]
  },
  {
   "cell_type": "markdown",
   "id": "797fbee4",
   "metadata": {
    "papermill": {
     "duration": 0.013301,
     "end_time": "2023-06-27T20:40:48.009661",
     "exception": false,
     "start_time": "2023-06-27T20:40:47.996360",
     "status": "completed"
    },
    "tags": []
   },
   "source": [
    "**2.2 Чистка данных**"
   ]
  },
  {
   "cell_type": "markdown",
   "id": "d6116016",
   "metadata": {
    "papermill": {
     "duration": 0.012493,
     "end_time": "2023-06-27T20:40:48.036117",
     "exception": false,
     "start_time": "2023-06-27T20:40:48.023624",
     "status": "completed"
    },
    "tags": []
   },
   "source": [
    "После просмотра первых пяти строк таблицы данных мы обнаружили   **один лишний столбец** с названием: Unnamed:0. Этот столбец нужно удалить."
   ]
  },
  {
   "cell_type": "markdown",
   "id": "959b3a87",
   "metadata": {},
   "source": [
    "**1.Основа проекта**\n",
    "\n"
   ]
  },
  {
   "cell_type": "code",
   "execution_count": 5,
   "id": "4960203a",
   "metadata": {
    "execution": {
     "iopub.execute_input": "2023-06-27T20:40:48.063619Z",
     "iopub.status.busy": "2023-06-27T20:40:48.063099Z",
     "iopub.status.idle": "2023-06-27T20:40:48.106222Z",
     "shell.execute_reply": "2023-06-27T20:40:48.104036Z"
    },
    "papermill": {
     "duration": 0.062029,
     "end_time": "2023-06-27T20:40:48.110312",
     "exception": false,
     "start_time": "2023-06-27T20:40:48.048283",
     "status": "completed"
    },
    "tags": []
   },
   "outputs": [
    {
     "data": {
      "text/html": [
       "<div>\n",
       "<style scoped>\n",
       "    .dataframe tbody tr th:only-of-type {\n",
       "        vertical-align: middle;\n",
       "    }\n",
       "\n",
       "    .dataframe tbody tr th {\n",
       "        vertical-align: top;\n",
       "    }\n",
       "\n",
       "    .dataframe thead th {\n",
       "        text-align: right;\n",
       "    }\n",
       "</style>\n",
       "<table border=\"1\" class=\"dataframe\">\n",
       "  <thead>\n",
       "    <tr style=\"text-align: right;\">\n",
       "      <th></th>\n",
       "      <th>user id</th>\n",
       "      <th>test group</th>\n",
       "      <th>converted</th>\n",
       "      <th>total ads</th>\n",
       "      <th>most ads day</th>\n",
       "      <th>most ads hour</th>\n",
       "    </tr>\n",
       "  </thead>\n",
       "  <tbody>\n",
       "    <tr>\n",
       "      <th>0</th>\n",
       "      <td>1069124</td>\n",
       "      <td>ad</td>\n",
       "      <td>False</td>\n",
       "      <td>130</td>\n",
       "      <td>Monday</td>\n",
       "      <td>20</td>\n",
       "    </tr>\n",
       "    <tr>\n",
       "      <th>1</th>\n",
       "      <td>1119715</td>\n",
       "      <td>ad</td>\n",
       "      <td>False</td>\n",
       "      <td>93</td>\n",
       "      <td>Tuesday</td>\n",
       "      <td>22</td>\n",
       "    </tr>\n",
       "    <tr>\n",
       "      <th>2</th>\n",
       "      <td>1144181</td>\n",
       "      <td>ad</td>\n",
       "      <td>False</td>\n",
       "      <td>21</td>\n",
       "      <td>Tuesday</td>\n",
       "      <td>18</td>\n",
       "    </tr>\n",
       "    <tr>\n",
       "      <th>3</th>\n",
       "      <td>1435133</td>\n",
       "      <td>ad</td>\n",
       "      <td>False</td>\n",
       "      <td>355</td>\n",
       "      <td>Tuesday</td>\n",
       "      <td>10</td>\n",
       "    </tr>\n",
       "    <tr>\n",
       "      <th>4</th>\n",
       "      <td>1015700</td>\n",
       "      <td>ad</td>\n",
       "      <td>False</td>\n",
       "      <td>276</td>\n",
       "      <td>Friday</td>\n",
       "      <td>14</td>\n",
       "    </tr>\n",
       "  </tbody>\n",
       "</table>\n",
       "</div>"
      ],
      "text/plain": [
       "   user id test group  converted  total ads most ads day  most ads hour\n",
       "0  1069124         ad      False        130       Monday             20\n",
       "1  1119715         ad      False         93      Tuesday             22\n",
       "2  1144181         ad      False         21      Tuesday             18\n",
       "3  1435133         ad      False        355      Tuesday             10\n",
       "4  1015700         ad      False        276       Friday             14"
      ]
     },
     "execution_count": 5,
     "metadata": {},
     "output_type": "execute_result"
    }
   ],
   "source": [
    "df.drop('Unnamed: 0', axis=1, inplace=True)\n",
    "df.head()"
   ]
  },
  {
   "cell_type": "markdown",
   "id": "8b6230d4",
   "metadata": {
    "papermill": {
     "duration": 0.012908,
     "end_time": "2023-06-27T20:40:48.137862",
     "exception": false,
     "start_time": "2023-06-27T20:40:48.124954",
     "status": "completed"
    },
    "tags": []
   },
   "source": [
    "После удаления столбца \"Unnamed:0\", текущие названия столбцов **содержат пробелы между словами**, что может вызвать проблемы в дальнейшем. Чтобы избежать этих проблем, лучше переименовать столбец 'user id' в формат 'user_id'. Поскольку требуется изменить большинство названий столбцов, я буду использовать лямбда-функцию."
   ]
  },
  {
   "cell_type": "code",
   "execution_count": 6,
   "id": "d934779a",
   "metadata": {
    "execution": {
     "iopub.execute_input": "2023-06-27T20:40:48.172486Z",
     "iopub.status.busy": "2023-06-27T20:40:48.170475Z",
     "iopub.status.idle": "2023-06-27T20:40:48.188005Z",
     "shell.execute_reply": "2023-06-27T20:40:48.186599Z"
    },
    "papermill": {
     "duration": 0.038425,
     "end_time": "2023-06-27T20:40:48.190952",
     "exception": false,
     "start_time": "2023-06-27T20:40:48.152527",
     "status": "completed"
    },
    "tags": []
   },
   "outputs": [
    {
     "data": {
      "text/html": [
       "<div>\n",
       "<style scoped>\n",
       "    .dataframe tbody tr th:only-of-type {\n",
       "        vertical-align: middle;\n",
       "    }\n",
       "\n",
       "    .dataframe tbody tr th {\n",
       "        vertical-align: top;\n",
       "    }\n",
       "\n",
       "    .dataframe thead th {\n",
       "        text-align: right;\n",
       "    }\n",
       "</style>\n",
       "<table border=\"1\" class=\"dataframe\">\n",
       "  <thead>\n",
       "    <tr style=\"text-align: right;\">\n",
       "      <th></th>\n",
       "      <th>user_id</th>\n",
       "      <th>test_group</th>\n",
       "      <th>converted</th>\n",
       "      <th>total_ads</th>\n",
       "      <th>most_ads_day</th>\n",
       "      <th>most_ads_hour</th>\n",
       "    </tr>\n",
       "  </thead>\n",
       "  <tbody>\n",
       "    <tr>\n",
       "      <th>0</th>\n",
       "      <td>1069124</td>\n",
       "      <td>ad</td>\n",
       "      <td>False</td>\n",
       "      <td>130</td>\n",
       "      <td>Monday</td>\n",
       "      <td>20</td>\n",
       "    </tr>\n",
       "    <tr>\n",
       "      <th>1</th>\n",
       "      <td>1119715</td>\n",
       "      <td>ad</td>\n",
       "      <td>False</td>\n",
       "      <td>93</td>\n",
       "      <td>Tuesday</td>\n",
       "      <td>22</td>\n",
       "    </tr>\n",
       "    <tr>\n",
       "      <th>2</th>\n",
       "      <td>1144181</td>\n",
       "      <td>ad</td>\n",
       "      <td>False</td>\n",
       "      <td>21</td>\n",
       "      <td>Tuesday</td>\n",
       "      <td>18</td>\n",
       "    </tr>\n",
       "    <tr>\n",
       "      <th>3</th>\n",
       "      <td>1435133</td>\n",
       "      <td>ad</td>\n",
       "      <td>False</td>\n",
       "      <td>355</td>\n",
       "      <td>Tuesday</td>\n",
       "      <td>10</td>\n",
       "    </tr>\n",
       "    <tr>\n",
       "      <th>4</th>\n",
       "      <td>1015700</td>\n",
       "      <td>ad</td>\n",
       "      <td>False</td>\n",
       "      <td>276</td>\n",
       "      <td>Friday</td>\n",
       "      <td>14</td>\n",
       "    </tr>\n",
       "  </tbody>\n",
       "</table>\n",
       "</div>"
      ],
      "text/plain": [
       "   user_id test_group  converted  total_ads most_ads_day  most_ads_hour\n",
       "0  1069124         ad      False        130       Monday             20\n",
       "1  1119715         ad      False         93      Tuesday             22\n",
       "2  1144181         ad      False         21      Tuesday             18\n",
       "3  1435133         ad      False        355      Tuesday             10\n",
       "4  1015700         ad      False        276       Friday             14"
      ]
     },
     "execution_count": 6,
     "metadata": {},
     "output_type": "execute_result"
    }
   ],
   "source": [
    "df.rename(columns=lambda x: x.replace(' ', '_'), inplace=True)\n",
    "df.head()"
   ]
  },
  {
   "cell_type": "markdown",
   "id": "911a97a6",
   "metadata": {
    "papermill": {
     "duration": 0.012112,
     "end_time": "2023-06-27T20:40:48.217032",
     "exception": false,
     "start_time": "2023-06-27T20:40:48.204920",
     "status": "completed"
    },
    "tags": []
   },
   "source": [
    "**2.3 Data Exploration**"
   ]
  },
  {
   "cell_type": "markdown",
   "id": "31f3480e",
   "metadata": {
    "papermill": {
     "duration": 0.013661,
     "end_time": "2023-06-27T20:40:48.245092",
     "exception": false,
     "start_time": "2023-06-27T20:40:48.231431",
     "status": "completed"
    },
    "tags": []
   },
   "source": [
    "Теперь датафрейм выглядит хорошо, поэтому можно проверить, есть ли пропущенные значения.\n",
    " "
   ]
  },
  {
   "cell_type": "code",
   "execution_count": 7,
   "id": "c6d7bacb",
   "metadata": {
    "execution": {
     "iopub.execute_input": "2023-06-27T20:40:48.276425Z",
     "iopub.status.busy": "2023-06-27T20:40:48.275715Z",
     "iopub.status.idle": "2023-06-27T20:40:48.686527Z",
     "shell.execute_reply": "2023-06-27T20:40:48.684429Z"
    },
    "papermill": {
     "duration": 0.429425,
     "end_time": "2023-06-27T20:40:48.690089",
     "exception": false,
     "start_time": "2023-06-27T20:40:48.260664",
     "status": "completed"
    },
    "tags": []
   },
   "outputs": [
    {
     "name": "stdout",
     "output_type": "stream",
     "text": [
      "<class 'pandas.core.frame.DataFrame'>\n",
      "RangeIndex: 588101 entries, 0 to 588100\n",
      "Data columns (total 6 columns):\n",
      " #   Column         Non-Null Count   Dtype \n",
      "---  ------         --------------   ----- \n",
      " 0   user_id        588101 non-null  int64 \n",
      " 1   test_group     588101 non-null  object\n",
      " 2   converted      588101 non-null  bool  \n",
      " 3   total_ads      588101 non-null  int64 \n",
      " 4   most_ads_day   588101 non-null  object\n",
      " 5   most_ads_hour  588101 non-null  int64 \n",
      "dtypes: bool(1), int64(3), object(2)\n",
      "memory usage: 23.0+ MB\n"
     ]
    }
   ],
   "source": [
    "df.info()"
   ]
  },
  {
   "cell_type": "markdown",
   "id": "09dc1218",
   "metadata": {
    "papermill": {
     "duration": 0.013188,
     "end_time": "2023-06-27T20:40:48.717505",
     "exception": false,
     "start_time": "2023-06-27T20:40:48.704317",
     "status": "completed"
    },
    "tags": []
   },
   "source": [
    "К счастью, ни в одном из наших столбцов нет пропущенных значений. Вернемся к цели анализа этого проекта: мы хотим узнать, значительно ли запуск рекламы улучшает конверсию. Первое, с чего следует начать, это взглянуть на **размер выборки экспериментальной группы (ad) и контрольной группы (psa).** "
   ]
  },
  {
   "cell_type": "code",
   "execution_count": 8,
   "id": "a78db91d",
   "metadata": {
    "execution": {
     "iopub.execute_input": "2023-06-27T20:40:48.745446Z",
     "iopub.status.busy": "2023-06-27T20:40:48.744983Z",
     "iopub.status.idle": "2023-06-27T20:40:48.851423Z",
     "shell.execute_reply": "2023-06-27T20:40:48.849744Z"
    },
    "papermill": {
     "duration": 0.124313,
     "end_time": "2023-06-27T20:40:48.854742",
     "exception": false,
     "start_time": "2023-06-27T20:40:48.730429",
     "status": "completed"
    },
    "tags": []
   },
   "outputs": [
    {
     "data": {
      "text/plain": [
       "test_group\n",
       "ad     564577\n",
       "psa     23524\n",
       "Name: count, dtype: int64"
      ]
     },
     "execution_count": 8,
     "metadata": {},
     "output_type": "execute_result"
    }
   ],
   "source": [
    "# count the numbers of different groups of the categorical column\n",
    "df['test_group'].value_counts()"
   ]
  },
  {
   "cell_type": "code",
   "execution_count": 9,
   "id": "2ca3ed49",
   "metadata": {
    "execution": {
     "iopub.execute_input": "2023-06-27T20:40:48.885755Z",
     "iopub.status.busy": "2023-06-27T20:40:48.883882Z",
     "iopub.status.idle": "2023-06-27T20:40:49.003282Z",
     "shell.execute_reply": "2023-06-27T20:40:49.001137Z"
    },
    "papermill": {
     "duration": 0.138969,
     "end_time": "2023-06-27T20:40:49.006592",
     "exception": false,
     "start_time": "2023-06-27T20:40:48.867623",
     "status": "completed"
    },
    "tags": []
   },
   "outputs": [
    {
     "data": {
      "text/plain": [
       "test_group  total_ads\n",
       "ad          1            54298\n",
       "            2            37911\n",
       "            5            28024\n",
       "            3            27328\n",
       "            4            22401\n",
       "                         ...  \n",
       "psa         312              1\n",
       "            310              1\n",
       "            184              1\n",
       "            179              1\n",
       "            907              1\n",
       "Name: count, Length: 1153, dtype: int64"
      ]
     },
     "execution_count": 9,
     "metadata": {},
     "output_type": "execute_result"
    }
   ],
   "source": [
    "# count the True or False of buying products by grouping test_group.\n",
    "df.groupby('test_group')['total_ads'].value_counts()"
   ]
  },
  {
   "cell_type": "markdown",
   "id": "db7dccbb",
   "metadata": {
    "papermill": {
     "duration": 0.013055,
     "end_time": "2023-06-27T20:40:49.034703",
     "exception": false,
     "start_time": "2023-06-27T20:40:49.021648",
     "status": "completed"
    },
    "tags": []
   },
   "source": [
    "Очевидно, что размер выборки рекламы **намного больше, чем** размер выборки PSA. Когда размеры выборок экспериментальной и контрольной групп **несбалансированы**, это потенциально может привести к появлению **определенных проблем** или соображений в статистическом анализе, например, повлиять на статистическую мощность анализа и точность оценок. Например, на точность оценок, таких как средние значения или пропорции, может влиять несбалансированный размер выборки. Группа с большим размером выборки обычно будет иметь более точные оценки по сравнению с группой с меньшим размером выборки. Поэтому в этом случае мы рассматриваем такие стратегии, как сопоставление, стратификация или использование соответствующих статистических методов, которые могут учитывать несбалансированные размеры выборки, таких как взвешенный анализ или **методы повторной выборки, такие как бутстрэппинг.**"
   ]
  },
  {
   "cell_type": "markdown",
   "id": "0394b12a",
   "metadata": {
    "papermill": {
     "duration": 0.013294,
     "end_time": "2023-06-27T20:40:49.062230",
     "exception": false,
     "start_time": "2023-06-27T20:40:49.048936",
     "status": "completed"
    },
    "tags": []
   },
   "source": [
    "Прежде чем выполнять начальную загрузку, мы можем сначала **подставить исходный фрейм данных** в фрейм данных экспериментальной группы и фрейм данных контрольной группы."
   ]
  },
  {
   "cell_type": "code",
   "execution_count": 10,
   "id": "f678c560",
   "metadata": {
    "execution": {
     "iopub.execute_input": "2023-06-27T20:40:49.091583Z",
     "iopub.status.busy": "2023-06-27T20:40:49.089928Z",
     "iopub.status.idle": "2023-06-27T20:40:49.344858Z",
     "shell.execute_reply": "2023-06-27T20:40:49.343421Z"
    },
    "papermill": {
     "duration": 0.272704,
     "end_time": "2023-06-27T20:40:49.348013",
     "exception": false,
     "start_time": "2023-06-27T20:40:49.075309",
     "status": "completed"
    },
    "tags": []
   },
   "outputs": [],
   "source": [
    "#subset the original dataframe\n",
    "ad_experimental=df[df['test_group']=='ad']"
   ]
  },
  {
   "cell_type": "code",
   "execution_count": 11,
   "id": "5869563f",
   "metadata": {},
   "outputs": [
    {
     "data": {
      "image/png": "[encoded data removed]",
      "text/plain": [
       "<Figure size 640x480 with 1 Axes>"
      ]
     },
     "metadata": {},
     "output_type": "display_data"
    },
    {
     "name": "stdout",
     "output_type": "stream",
     "text": [
      "90 8.258764264806263 74.61158053440475\n",
      "99 7.7676882891547905 79.32855080173483\n"
     ]
    }
   ],
   "source": [
    "import matplotlib.pyplot as plt\n",
    "import numpy as np\n",
    "from scipy.stats import lognorm\n",
    "\n",
    "# Define your confidence interval function\n",
    "def confidence_interval(data, alpha):\n",
    "    n = len(data)\n",
    "    mean = np.mean(data)\n",
    "    std_error = np.std(data) / np.sqrt(n)\n",
    "\n",
    "    z_value = lognorm.ppf(1 - alpha/2, s=std_error)\n",
    "    lower_bound = mean * np.exp(-z_value)\n",
    "    upper_bound = mean * np.exp(z_value)\n",
    "\n",
    "    return lower_bound, upper_bound\n",
    "\n",
    "alpha_90 = 0.1\n",
    "alpha_99 = 0.01\n",
    "\n",
    "\n",
    "\n",
    "# Compute the confidence intervals\n",
    "ad_converted_90 = confidence_interval(ad_experimental['total_ads'], alpha_90)\n",
    "ad_converted_99 = confidence_interval(ad_experimental['total_ads'], alpha_99)\n",
    "\n",
    "# Generate the x-axis values (row numbers)\n",
    "x = np.arange(len(ad_experimental))\n",
    "\n",
    "# Plot the data points\n",
    "plt.plot(x, ad_experimental['total_ads'], label='Data')\n",
    "\n",
    "# Plot the 90% confidence interval\n",
    "plt.fill_between(x, ad_converted_90[0], ad_converted_90[1], color='green', alpha=0.3, label='90% Confidence Interval')\n",
    "\n",
    "# Plot the 99% confidence interval\n",
    "plt.fill_between(x, ad_converted_99[0], ad_converted_99[1], color='red', alpha=0.3, label='99% Confidence Interval')\n",
    "\n",
    "# Add labels and legend\n",
    "plt.xlabel('Row Number')\n",
    "plt.ylabel('Total Ads')\n",
    "plt.legend()\n",
    "\n",
    "# Show the plot\n",
    "plt.show()\n",
    "\n",
    "\n",
    "print(\"90\",ad_converted_90[0],ad_converted_90[1])\n",
    "print(\"99\",ad_converted_99[0],ad_converted_99[1])"
   ]
  },
  {
   "cell_type": "markdown",
   "id": "8e2b76ae",
   "metadata": {},
   "source": [
    "Данный интервал является результатом наивного подхода. Однако, далее, при помощи метода бутстрэп, я буду стремиться улучшить его точность. "
   ]
  },
  {
   "cell_type": "code",
   "execution_count": null,
   "id": "1bbf6908",
   "metadata": {},
   "outputs": [],
   "source": []
  },
  {
   "cell_type": "markdown",
   "id": "b2aaa792",
   "metadata": {
    "papermill": {
     "duration": 0.013421,
     "end_time": "2023-06-27T20:40:49.448324",
     "exception": false,
     "start_time": "2023-06-27T20:40:49.434903",
     "status": "completed"
    },
    "tags": []
   },
   "source": [
    "**3. Бутстреп**\n",
    "\n",
    "Метод бутстреп — это **метод повторной выборки**, используемый в статистическом анализе. По сути, он включает в себя повторную выборку наблюдений из набора данных с заменой для создания нескольких повторных выборок. Этот процесс повторной выборки позволяет **оценить выборочное распределение статистики или сделать выводы о параметрах совокупности**. В этом проекте я собираюсь выполнить повторную выборку исходного файла данных, чтобы создать **кадры данных с повторной выборкой из 1000 выборочных средних** как для экспериментальной группы, так и для контрольной группы."
   ]
  },
  {
   "cell_type": "code",
   "execution_count": 12,
   "id": "016988df",
   "metadata": {
    "execution": {
     "iopub.execute_input": "2023-06-27T20:40:49.478343Z",
     "iopub.status.busy": "2023-06-27T20:40:49.477558Z",
     "iopub.status.idle": "2023-06-27T20:43:35.530919Z",
     "shell.execute_reply": "2023-06-27T20:43:35.528893Z"
    },
    "papermill": {
     "duration": 166.073385,
     "end_time": "2023-06-27T20:43:35.535699",
     "exception": false,
     "start_time": "2023-06-27T20:40:49.462314",
     "status": "completed"
    },
    "tags": []
   },
   "outputs": [],
   "source": [
    "\n",
    "# создаем пустой список для хранения загрузочных средств\n",
    "boot_ad_1 = []\n",
    "boot_ad_2 = []\n",
    "boot_ad_3 = []\n",
    "boot_ad_4 = []\n",
    "# настройте цикл, который будет повторяться 1000 раз. На каждой итерации будет генерироваться новый загрузочный образец.\n",
    "for i in range(1000):\n",
    "    boot_sample = ad_experimental.sample(frac=1, replace=True)['total_ads']\n",
    "\n",
    "    boot_interval_90  =  confidence_interval(boot_sample, alpha_90)\n",
    "    boot_ad_1.append(boot_interval_90[0])\n",
    "    boot_ad_2.append( boot_interval_90[1])\n",
    "\n",
    "    boot_interval_99  =  confidence_interval(boot_sample, alpha_99)\n",
    "    boot_ad_3.append(boot_interval_99[0])\n",
    "    boot_ad_4.append( boot_interval_99[1])\n",
    "    \n",
    "\n",
    "boot_ad_90=pd.DataFrame(boot_ad_2, boot_ad_1)\n",
    "boot_ad_99=pd.DataFrame(boot_ad_3, boot_ad_4)\n",
    "\n",
    "\n",
    "\n",
    "    "
   ]
  },
  {
   "cell_type": "code",
   "execution_count": 13,
   "id": "61229dcb",
   "metadata": {},
   "outputs": [
    {
     "name": "stdout",
     "output_type": "stream",
     "text": [
      "AD_bootstrap_90 8.258954401849559 74.61786863342819\n",
      "AD_simple_90 8.258764264806263 74.61158053440475\n",
      "AD_bootstrap_99 7.767713768539264 79.33688493122295\n",
      "AD_simple_99 7.7676882891547905 79.32855080173483\n"
     ]
    }
   ],
   "source": [
    "\n",
    "print (\"AD_bootstrap_90\", sum(boot_ad_1) / len(boot_ad_1),sum(boot_ad_2) / len(boot_ad_2)) \n",
    "print(\"AD_simple_90\",ad_converted_90[0],ad_converted_90[1])\n",
    "\n",
    "print (\"AD_bootstrap_99\", sum(boot_ad_3) / len(boot_ad_3),sum(boot_ad_4) / len(boot_ad_4)) \n",
    "print(\"AD_simple_99\",ad_converted_99[0],ad_converted_99[1])\n",
    "\n"
   ]
  }
 ],
 "metadata": {
  "kernelspec": {
   "display_name": "Python 3",
   "language": "python",
   "name": "python3"
  },
  "language_info": {
   "codemirror_mode": {
    "name": "ipython",
    "version": 3
   },
   "file_extension": ".py",
   "mimetype": "text/x-python",
   "name": "python",
   "nbconvert_exporter": "python",
   "pygments_lexer": "ipython3",
   "version": "3.11.4"
  },
  "papermill": {
   "default_parameters": {},
   "duration": 195.223488,
   "end_time": "2023-06-27T20:43:42.208673",
   "environment_variables": {},
   "exception": null,
   "input_path": "__notebook__.ipynb",
   "output_path": "__notebook__.ipynb",
   "parameters": {},
   "start_time": "2023-06-27T20:40:26.985185",
   "version": "2.4.0"
  }
 },
 "nbformat": 4,
 "nbformat_minor": 5
}
