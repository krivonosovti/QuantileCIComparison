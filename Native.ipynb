{
 "cells": [
  {
   "cell_type": "code",
   "execution_count": 1,
   "metadata": {},
   "outputs": [],
   "source": [
    "import numpy as np\n",
    "\n",
    "from scipy import stats\n",
    "import matplotlib.pyplot as plt"
   ]
  },
  {
   "cell_type": "code",
   "execution_count": 2,
   "metadata": {},
   "outputs": [],
   "source": [
    "def read_sample(file_path):\n",
    "    sample = np.loadtxt(file_path)\n",
    "    return sample\n",
    "\n",
    "\n",
    "# Функция для вычисления False Positive Rate (FPR)\n",
    "def compute_fpr(data, interval):\n",
    "    false_positive_rate = np.mean((data < interval[0]) | (data > interval[1]))\n",
    "    return false_positive_rate\n"
   ]
  },
  {
   "cell_type": "code",
   "execution_count": 10,
   "metadata": {},
   "outputs": [
    {
     "name": "stdout",
     "output_type": "stream",
     "text": [
      "(0.03654550729892758, 0.05932147171469785) и шириной 0.022775964415770268\n",
      "fpt = 0.989\n"
     ]
    }
   ],
   "source": [
    "X = read_sample(f\"Data/DataNormal/sampleNormal_1.txt\")\n",
    "\n",
    "lam_hat = np.mean(X) #нашли оценку параметра\n",
    "lam_se = np.sqrt(lam_hat/len(X)) #нашли стандартное отклоненне \n",
    "\n",
    "interval = stats.norm.interval(0.90, loc = lam_hat, scale = lam_se)\n",
    "print(interval, f\"и шириной {interval[1] - interval[0]}\")\n",
    "print(f\"fpt = {compute_fpr(X, interval)}\")"
   ]
  }
 ],
 "metadata": {
  "kernelspec": {
   "display_name": "Python 3",
   "language": "python",
   "name": "python3"
  },
  "language_info": {
   "codemirror_mode": {
    "name": "ipython",
    "version": 3
   },
   "file_extension": ".py",
   "mimetype": "text/x-python",
   "name": "python",
   "nbconvert_exporter": "python",
   "pygments_lexer": "ipython3",
   "version": "3.11.4"
  },
  "orig_nbformat": 4
 },
 "nbformat": 4,
 "nbformat_minor": 2
}
